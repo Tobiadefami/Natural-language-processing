{
 "cells": [
  {
   "cell_type": "code",
   "execution_count": 1,
   "metadata": {},
   "outputs": [],
   "source": [
    "%matplotlib inline\n",
    "import matplotlib\n",
    "import seaborn as sns\n",
    "matplotlib.rcParams['savefig.dpi'] = 144"
   ]
  },
  {
   "cell_type": "code",
   "execution_count": 2,
   "metadata": {},
   "outputs": [],
   "source": [
    "from static_grader import grader"
   ]
  },
  {
   "cell_type": "markdown",
   "metadata": {},
   "source": [
    "# NLP Miniproject"
   ]
  },
  {
   "cell_type": "markdown",
   "metadata": {},
   "source": [
    "## Introduction\n",
    "\n",
    "The objective of this miniproject is to gain experience with natural language processing and how to use text data to train a machine learning model to make predictions. For the miniproject, we will be working with product review text from Amazon. The reviews are for only products in the \"Electronics\" category. The objective is to train a model to predict the rating, ranging from 1 to 5 stars.\n",
    "\n",
    "## Scoring\n",
    "\n",
    "For most of the questions, you will be asked to submit the `predict` method of your trained model to the grader. The grader will use the passed `predict` method to evaluate how your model performs on a test set with respect to a reference model. The grader uses the [R<sup>2</sup>-score](https://scikit-learn.org/stable/modules/model_evaluation.html#r2-score) for model evaluation. If your model performs better than the reference solution, then you can score higher than 1.0. For the last question, you will submit the result of an analysis and your passed answer will be compared directly to the reference solution.\n",
    "\n",
    "## Downloading and loading the data\n",
    "\n",
    "The data set is available on Amazon S3 and comes as a compressed file where each line is a JSON object. To load the data set, we will need to use the `gzip` library to open the file and decode each JSON into a Python dictionary. In the end, we have a list of dictionaries, where each dictionary represents an observation."
   ]
  },
  {
   "cell_type": "code",
   "execution_count": 3,
   "metadata": {},
   "outputs": [
    {
     "name": "stderr",
     "output_type": "stream",
     "text": [
      "mkdir: cannot create directory ‘data’: File exists\n",
      "File ‘./data/amazon_electronics_reviews_training.json.gz’ already there; not retrieving.\n",
      "\n"
     ]
    }
   ],
   "source": [
    "%%bash\n",
    "mkdir data\n",
    "wget http://dataincubator-wqu.s3.amazonaws.com/mldata/amazon_electronics_reviews_training.json.gz -nc -P ./data"
   ]
  },
  {
   "cell_type": "code",
   "execution_count": 4,
   "metadata": {},
   "outputs": [],
   "source": [
    "import gzip\n",
    "import ujson as json\n",
    "\n",
    "with gzip.open(\"data/amazon_electronics_reviews_training.json.gz\", \"r\") as f:                                  \n",
    "    data = [json.loads(line) for line in f]"
   ]
  },
  {
   "cell_type": "markdown",
   "metadata": {},
   "source": [
    "The ratings are stored in the keyword `\"overall\"`. You should create an array of the ratings for each review, preferably using list comprehensions."
   ]
  },
  {
   "cell_type": "code",
   "execution_count": 5,
   "metadata": {},
   "outputs": [
    {
     "data": {
      "text/plain": [
       "\"I bought this mouse to use with my laptop because I don't like those little touchpads.  I could not be happier.Since it's USB, I can plug it in with the computer already on and expect it to work automatically.  Since it's optical (the new kind, not to be confused with the old Sun optical mice that required a special checkered mouse pad) it works on most surfaces, including my pant legs, my couch, and random tables that I put my laptop down on.  It's also light and durable, features that help with portability.The wheel is surprisingly useful.  In addition to scrolling, it controls zoom and pan in programs like Autocad and 3D Studio Max.  I can no longer bear using either of these programs without it.One complaint - the software included with the Internet navigation features is useless.  Don't bother installing it if you have a newer Windows version that automatically supports wheel mice.  Just plug it in and use it - it's that easy.\""
      ]
     },
     "execution_count": 5,
     "metadata": {},
     "output_type": "execute_result"
    }
   ],
   "source": [
    "data[0][\"reviewText\"]"
   ]
  },
  {
   "cell_type": "code",
   "execution_count": 6,
   "metadata": {},
   "outputs": [],
   "source": [
    "ratings = [d[\"overall\"] for d in data]"
   ]
  },
  {
   "cell_type": "markdown",
   "metadata": {},
   "source": [
    "**Note**, the test set used by the grader is in the same format as that of `data`, a list of dictionaries. Your trained model needs to accept data in the same format. Thus, you should use `Pipeline` when constructing your model so that all necessary transformation needed are encapsulated into a single estimator object."
   ]
  },
  {
   "cell_type": "markdown",
   "metadata": {},
   "source": [
    "## Question 1: Bag of words model\n",
    "\n",
    "Construct a machine learning model trained on word counts using the bag of words algorithm. Remember, the bag of words is implemented with `CountVectorizer`. Some things you should consider:\n",
    "\n",
    "* The reference solution uses a linear model and you should as well; use either `Ridge` or `SGDRegressor`.\n",
    "* The text review is stored in the key `\"reviewText\"`. You will need to construct a custom transformer to extract out the value of this key. It will be the first step in your pipeline.\n",
    "* Consider what hyperparameters you will need to tune for your model.\n",
    "* Subsampling the training data will boost training times, which will be helpful when determining the best hyperparameters to use. Note, your final model will perform best if it is trained on the full data set.\n",
    "* Including stop words may help with performance."
   ]
  },
  {
   "cell_type": "code",
   "execution_count": 7,
   "metadata": {},
   "outputs": [],
   "source": [
    "from sklearn.base import BaseEstimator,TransformerMixin\n",
    "\n",
    "class KeySelector (BaseEstimator,TransformerMixin):\n",
    "    def __init__(self,key):\n",
    "        self.key = key\n",
    "    \n",
    "    def fit(self,x,y = None):\n",
    "        return self \n",
    "    \n",
    "    def transform(self,x):\n",
    "        return [d[self.key] for d in x]\n",
    "      "
   ]
  },
  {
   "cell_type": "code",
   "execution_count": 8,
   "metadata": {},
   "outputs": [],
   "source": [
    "from sklearn.feature_extraction.text import CountVectorizer,HashingVectorizer\n",
    "from sklearn.pipeline import Pipeline\n",
    "from sklearn.linear_model import LinearRegression\n",
    "bag_of_words_model = Pipeline([\n",
    "    (\"selector\",KeySelector(\"reviewText\")),\n",
    "    (\"vectorizer\",HashingVectorizer(n_features = 2_000)),\n",
    "    (\"regressor\",LinearRegression())\n",
    "])"
   ]
  },
  {
   "cell_type": "code",
   "execution_count": 9,
   "metadata": {},
   "outputs": [],
   "source": [
    "bag_of_words_model.fit(data,ratings);"
   ]
  },
  {
   "cell_type": "code",
   "execution_count": 12,
   "metadata": {},
   "outputs": [
    {
     "name": "stdout",
     "output_type": "stream",
     "text": [
      "==================\n",
      "Your score:  1.0941787937717788\n",
      "==================\n"
     ]
    }
   ],
   "source": [
    "grader.score.nlp__bag_of_words_model(bag_of_words_model.predict)"
   ]
  },
  {
   "cell_type": "markdown",
   "metadata": {},
   "source": [
    "## Question 2: Normalized model\n",
    "\n",
    "Using raw counts will not be as effective compared if we had normalized the counts. There are several ways to normalize raw counts; the `HashingVectorizer` class has the keyword `norm` and there is also the `TfidfTransformer` and `TfidfVectorizer` that perform tf-idf weighting on the counts. Apply normalized to your model to improve performance."
   ]
  },
  {
   "cell_type": "code",
   "execution_count": 26,
   "metadata": {},
   "outputs": [],
   "source": [
    "from sklearn.linear_model import Ridge\n",
    "from sklearn.model_selection import GridSearchCV\n",
    "\n",
    "import numpy as np\n",
    "\n",
    "gs = GridSearchCV(Ridge(),param_grid = {\"alpha\": np.arange(0.5,2.1,0.5)},\n",
    "                  cv = 3,\n",
    "                  n_jobs =1,\n",
    "                  verbose = 1\n",
    "                 )\n",
    "normalized_model = Pipeline([\n",
    "    (\"selector\",KeySelector(\"reviewText\")),\n",
    "    (\"vectorizer\",HashingVectorizer(norm = \"l2\",n_features=10_000)),\n",
    "#    (\"regressor\",LinearRegression()),\n",
    "    (\"gs\",Ridge())\n",
    "])"
   ]
  },
  {
   "cell_type": "code",
   "execution_count": 27,
   "metadata": {},
   "outputs": [],
   "source": [
    "normalized_model.fit(data,ratings);"
   ]
  },
  {
   "cell_type": "code",
   "execution_count": 28,
   "metadata": {},
   "outputs": [
    {
     "name": "stdout",
     "output_type": "stream",
     "text": [
      "==================\n",
      "Your score:  0.9739119493908618\n",
      "==================\n"
     ]
    }
   ],
   "source": [
    "grader.score.nlp__normalized_model(normalized_model.predict)"
   ]
  },
  {
   "cell_type": "markdown",
   "metadata": {},
   "source": [
    "## Question 3: Bigrams model\n",
    "\n",
    "The model performance may increase when including additional features generated by counting bigrams. Include bigrams to your model. When using more features, the risk of overfitting increases. Make sure you try to minimize overfitting as much as possible."
   ]
  },
  {
   "cell_type": "code",
   "execution_count": 42,
   "metadata": {},
   "outputs": [],
   "source": [
    "from sklearn.feature_extraction.text import TfidfTransformer\n",
    "bigrams_model = Pipeline([\n",
    "    (\"selector\",KeySelector(\"reviewText\")),\n",
    "    (\"vectorizer\",HashingVectorizer(lowercase=True,ngram_range=(1,2),\n",
    "                                   n_features = 25_000)),\n",
    "#    (\"transformer\",TfidfTransformer()),\n",
    "    (\"regressor\",gs)\n",
    "])"
   ]
  },
  {
   "cell_type": "code",
   "execution_count": 43,
   "metadata": {},
   "outputs": [
    {
     "name": "stdout",
     "output_type": "stream",
     "text": [
      "Fitting 3 folds for each of 4 candidates, totalling 12 fits\n"
     ]
    },
    {
     "name": "stderr",
     "output_type": "stream",
     "text": [
      "[Parallel(n_jobs=1)]: Using backend SequentialBackend with 1 concurrent workers.\n",
      "[Parallel(n_jobs=1)]: Done  12 out of  12 | elapsed:   45.2s finished\n"
     ]
    },
    {
     "data": {
      "text/plain": [
       "Pipeline(memory=None,\n",
       "         steps=[('selector', KeySelector(key='reviewText')),\n",
       "                ('vectorizer',\n",
       "                 HashingVectorizer(alternate_sign=True, analyzer='word',\n",
       "                                   binary=False, decode_error='strict',\n",
       "                                   dtype=<class 'numpy.float64'>,\n",
       "                                   encoding='utf-8', input='content',\n",
       "                                   lowercase=True, n_features=25000,\n",
       "                                   ngram_range=(1, 2), norm='l2',\n",
       "                                   preprocessor=None, stop_words=None,\n",
       "                                   strip_accents=None,\n",
       "                                   t...\n",
       "                ('regressor',\n",
       "                 GridSearchCV(cv=3, error_score='raise-deprecating',\n",
       "                              estimator=Ridge(alpha=1.0, copy_X=True,\n",
       "                                              fit_intercept=True, max_iter=None,\n",
       "                                              normalize=False,\n",
       "                                              random_state=None, solver='auto',\n",
       "                                              tol=0.001),\n",
       "                              iid='warn', n_jobs=1,\n",
       "                              param_grid={'alpha': array([0.5, 1. , 1.5, 2. ])},\n",
       "                              pre_dispatch='2*n_jobs', refit=True,\n",
       "                              return_train_score=False, scoring=None,\n",
       "                              verbose=1))],\n",
       "         verbose=False)"
      ]
     },
     "execution_count": 43,
     "metadata": {},
     "output_type": "execute_result"
    }
   ],
   "source": [
    "bigrams_model.fit(data,ratings)"
   ]
  },
  {
   "cell_type": "code",
   "execution_count": 45,
   "metadata": {},
   "outputs": [
    {
     "name": "stdout",
     "output_type": "stream",
     "text": [
      "==================\n",
      "Your score:  1.0112021568348368\n",
      "==================\n"
     ]
    }
   ],
   "source": [
    "grader.score.nlp__bigrams_model(bigrams_model.predict)"
   ]
  },
  {
   "cell_type": "markdown",
   "metadata": {},
   "source": [
    "## Question 4: Polarity analysis\n",
    "\n",
    "Let's derive some insight from our analysis. We want to determine the most polarizing words in the corpus of reviews. In other words, we want identify words that strongly signal a review is either positive or negative. For example, we understand a word like \"terrible\" will mostly appear in negative rather than positive reviews. The naive Bayes model calculates probabilities such as $P(\\text{terrible } | \\text{ negative})$, the probability the review is negative given the word \"terrible\" appears in the text. Using these probabilities, we can derive a polarity score for each counted word,\n",
    "\n",
    "$$\n",
    "\\text{polarity} =  \\log\\left(\\frac{P(\\text{word } | \\text{ positive})}{P(\\text{word } | \\text{ negative})}\\right).\n",
    "$$ \n",
    "\n",
    "The polarity analysis is an example where a simpler model offers more explicability than a more complicated model. For this question, you are asked to determine the top twenty-five words with the largest positive **and** largest negative polarity, for a total of fifty words. For this analysis, you should\n",
    "1. Use the naive Bayes model, `MultinomialNB`.\n",
    "1. Use tf-idf weighting and include stop words.\n",
    "\n",
    "A trained naive Bayes model stores the log of the probabilities in the attribute `feature_log_prob_`. It is a NumPy array of shape (number of classes, the number of features). You will need the mapping between feature index to word. For this problem, you will use a different data set; it has been processed to only include reviews with one and five stars. You can download it below."
   ]
  },
  {
   "cell_type": "code",
   "execution_count": 46,
   "metadata": {},
   "outputs": [
    {
     "name": "stderr",
     "output_type": "stream",
     "text": [
      "--2019-11-01 14:52:51--  http://dataincubator-wqu.s3.amazonaws.com/mldata/amazon_one_and_five_star_reviews.json.gz\n",
      "Resolving dataincubator-wqu.s3.amazonaws.com (dataincubator-wqu.s3.amazonaws.com)... 54.231.32.123\n",
      "Connecting to dataincubator-wqu.s3.amazonaws.com (dataincubator-wqu.s3.amazonaws.com)|54.231.32.123|:80... connected.\n",
      "HTTP request sent, awaiting response... 200 OK\n",
      "Length: 2970853 (2.8M) [application/x-gzip]\n",
      "Saving to: ‘./data/amazon_one_and_five_star_reviews.json.gz’\n",
      "\n",
      "     0K .......... .......... .......... .......... ..........  1% 36.7M 0s\n",
      "    50K .......... .......... .......... .......... ..........  3% 40.4M 0s\n",
      "   100K .......... .......... .......... .......... ..........  5% 55.3M 0s\n",
      "   150K .......... .......... .......... .......... ..........  6% 50.5M 0s\n",
      "   200K .......... .......... .......... .......... ..........  8% 52.4M 0s\n",
      "   250K .......... .......... .......... .......... .......... 10% 49.8M 0s\n",
      "   300K .......... .......... .......... .......... .......... 12% 50.5M 0s\n",
      "   350K .......... .......... .......... .......... .......... 13% 49.9M 0s\n",
      "   400K .......... .......... .......... .......... .......... 15%  110M 0s\n",
      "   450K .......... .......... .......... .......... .......... 17%  245M 0s\n",
      "   500K .......... .......... .......... .......... .......... 18%  169M 0s\n",
      "   550K .......... .......... .......... .......... .......... 20% 53.6M 0s\n",
      "   600K .......... .......... .......... .......... .......... 22%  102M 0s\n",
      "   650K .......... .......... .......... .......... .......... 24%  252M 0s\n",
      "   700K .......... .......... .......... .......... .......... 25% 52.7M 0s\n",
      "   750K .......... .......... .......... .......... .......... 27% 65.2M 0s\n",
      "   800K .......... .......... .......... .......... .......... 29%  442M 0s\n",
      "   850K .......... .......... .......... .......... .......... 31% 75.4M 0s\n",
      "   900K .......... .......... .......... .......... .......... 32% 57.3M 0s\n",
      "   950K .......... .......... .......... .......... .......... 34%  264M 0s\n",
      "  1000K .......... .......... .......... .......... .......... 36%  454M 0s\n",
      "  1050K .......... .......... .......... .......... .......... 37% 49.4M 0s\n",
      "  1100K .......... .......... .......... .......... .......... 39% 70.4M 0s\n",
      "  1150K .......... .......... .......... .......... .......... 41%  434M 0s\n",
      "  1200K .......... .......... .......... .......... .......... 43%  382M 0s\n",
      "  1250K .......... .......... .......... .......... .......... 44%  456M 0s\n",
      "  1300K .......... .......... .......... .......... .......... 46% 42.4M 0s\n",
      "  1350K .......... .......... .......... .......... .......... 48% 45.7M 0s\n",
      "  1400K .......... .......... .......... .......... .......... 49%  229M 0s\n",
      "  1450K .......... .......... .......... .......... .......... 51%  417M 0s\n",
      "  1500K .......... .......... .......... .......... .......... 53% 53.4M 0s\n",
      "  1550K .......... .......... .......... .......... .......... 55% 56.8M 0s\n",
      "  1600K .......... .......... .......... .......... .......... 56%  250M 0s\n",
      "  1650K .......... .......... .......... .......... .......... 58%  270M 0s\n",
      "  1700K .......... .......... .......... .......... .......... 60%  273M 0s\n",
      "  1750K .......... .......... .......... .......... .......... 62%  305M 0s\n",
      "  1800K .......... .......... .......... .......... .......... 63%  228M 0s\n",
      "  1850K .......... .......... .......... .......... .......... 65%  289M 0s\n",
      "  1900K .......... .......... .......... .......... .......... 67%  268M 0s\n",
      "  1950K .......... .......... .......... .......... .......... 68% 45.4M 0s\n",
      "  2000K .......... .......... .......... .......... .......... 70% 72.5M 0s\n",
      "  2050K .......... .......... .......... .......... .......... 72% 71.9M 0s\n",
      "  2100K .......... .......... .......... .......... .......... 74% 1.79M 0s\n",
      "  2150K .......... .......... .......... .......... .......... 75% 53.9M 0s\n",
      "  2200K .......... .......... .......... .......... .......... 77% 55.8M 0s\n",
      "  2250K .......... .......... .......... .......... .......... 79% 51.6M 0s\n",
      "  2300K .......... .......... .......... .......... .......... 81%  169M 0s\n",
      "  2350K .......... .......... .......... .......... .......... 82% 78.0M 0s\n",
      "  2400K .......... .......... .......... .......... .......... 84%  108M 0s\n",
      "  2450K .......... .......... .......... .......... .......... 86%  245M 0s\n",
      "  2500K .......... .......... .......... .......... .......... 87%  341M 0s\n",
      "  2550K .......... .......... .......... .......... .......... 89%  310M 0s\n",
      "  2600K .......... .......... .......... .......... .......... 91%  342M 0s\n",
      "  2650K .......... .......... .......... .......... .......... 93%  103M 0s\n",
      "  2700K .......... .......... .......... .......... .......... 94% 44.9M 0s\n",
      "  2750K .......... .......... .......... .......... .......... 96% 70.1M 0s\n",
      "  2800K .......... .......... .......... .......... .......... 98% 71.8M 0s\n",
      "  2850K .......... .......... .......... .......... .......... 99% 98.3M 0s\n",
      "  2900K .                                                     100% 2334G=0.06s\n",
      "\n",
      "2019-11-01 14:52:51 (47.4 MB/s) - ‘./data/amazon_one_and_five_star_reviews.json.gz’ saved [2970853/2970853]\n",
      "\n"
     ]
    }
   ],
   "source": [
    "%%bash\n",
    "wget http://dataincubator-wqu.s3.amazonaws.com/mldata/amazon_one_and_five_star_reviews.json.gz -nc -P ./data"
   ]
  },
  {
   "cell_type": "markdown",
   "metadata": {},
   "source": [
    "To avoid memory issue, we can delete the older data."
   ]
  },
  {
   "cell_type": "code",
   "execution_count": 47,
   "metadata": {},
   "outputs": [],
   "source": [
    "del data, ratings"
   ]
  },
  {
   "cell_type": "code",
   "execution_count": 53,
   "metadata": {},
   "outputs": [],
   "source": [
    "import numpy as np\n",
    "from sklearn.naive_bayes import MultinomialNB\n",
    "from sklearn.feature_extraction.text import TfidfVectorizer\n",
    "with gzip.open(\"data/amazon_one_and_five_star_reviews.json.gz\", \"r\") as f:\n",
    "    data_polarity = [json.loads(line) for line in f]\n"
   ]
  },
  {
   "cell_type": "code",
   "execution_count": 54,
   "metadata": {},
   "outputs": [],
   "source": [
    "ratings = [d[\"overall\"] for d in data_polarity]"
   ]
  },
  {
   "cell_type": "code",
   "execution_count": 55,
   "metadata": {},
   "outputs": [],
   "source": [
    "\n",
    "pipe = Pipeline([\n",
    "    (\"selector\",KeySelector(\"reviewText\")),\n",
    "    (\"vectorizer\",TfidfVectorizer( stop_words = \"english\")),\n",
    "    (\"classifier\",MultinomialNB())\n",
    "])"
   ]
  },
  {
   "cell_type": "code",
   "execution_count": 56,
   "metadata": {},
   "outputs": [
    {
     "data": {
      "text/plain": [
       "Pipeline(memory=None,\n",
       "         steps=[('selector', KeySelector(key='reviewText')),\n",
       "                ('vectorizer',\n",
       "                 TfidfVectorizer(analyzer='word', binary=False,\n",
       "                                 decode_error='strict',\n",
       "                                 dtype=<class 'numpy.float64'>,\n",
       "                                 encoding='utf-8', input='content',\n",
       "                                 lowercase=True, max_df=1.0, max_features=None,\n",
       "                                 min_df=1, ngram_range=(1, 1), norm='l2',\n",
       "                                 preprocessor=None, smooth_idf=True,\n",
       "                                 stop_words='english', strip_accents=None,\n",
       "                                 sublinear_tf=False,\n",
       "                                 token_pattern='(?u)\\\\b\\\\w\\\\w+\\\\b',\n",
       "                                 tokenizer=None, use_idf=True,\n",
       "                                 vocabulary=None)),\n",
       "                ('classifier',\n",
       "                 MultinomialNB(alpha=1.0, class_prior=None, fit_prior=True))],\n",
       "         verbose=False)"
      ]
     },
     "execution_count": 56,
     "metadata": {},
     "output_type": "execute_result"
    }
   ],
   "source": [
    "pipe.fit(data_polarity,ratings)"
   ]
  },
  {
   "cell_type": "code",
   "execution_count": 59,
   "metadata": {},
   "outputs": [],
   "source": [
    "log_prob = pipe.named_steps[\"classifier\"].feature_log_prob_\n",
    "feat_names = pipe.named_steps[\"vectorizer\"].get_feature_names()\n",
    "polarity = log_prob[0,:] - log_prob[1,:]"
   ]
  },
  {
   "cell_type": "code",
   "execution_count": 60,
   "metadata": {},
   "outputs": [],
   "source": [
    "terms = sorted(list(zip(polarity,feat_names)))\n",
    "most_polarized = terms[:25] + terms[-25:]\n",
    "top_50 = sorted([word for score, word in most_polarized])"
   ]
  },
  {
   "cell_type": "code",
   "execution_count": 61,
   "metadata": {},
   "outputs": [
    {
     "name": "stdout",
     "output_type": "stream",
     "text": [
      "==================\n",
      "Your score:  1.0\n",
      "==================\n"
     ]
    }
   ],
   "source": [
    "grader.score.nlp__most_polar(top_50)"
   ]
  },
  {
   "cell_type": "markdown",
   "metadata": {},
   "source": [
    "## Question 5: Topic modeling [optional]\n",
    "\n",
    "Topic modeling is the analysis of determining the key topics or themes in a corpus. With respect to machine learning, topic modeling is an unsupervised technique. One way to uncover the main topics in a corpus is to use [non-negative matrix factorization](https://scikit-learn.org/stable/modules/generated/sklearn.decomposition.NMF.html). For this question, use non-negative matrix factorization to determine the top ten words for the first twenty topics. You should submit your answer as a list of lists. What topics exist in the reviews?"
   ]
  },
  {
   "cell_type": "code",
   "execution_count": null,
   "metadata": {},
   "outputs": [],
   "source": [
    "from sklearn.decomposition import NMF\n",
    " "
   ]
  },
  {
   "cell_type": "markdown",
   "metadata": {},
   "source": [
    "*Copyright &copy; 2019 The Data Incubator.  All rights reserved.*"
   ]
  }
 ],
 "metadata": {
  "kernelspec": {
   "display_name": "Python 3",
   "language": "python",
   "name": "python3"
  },
  "language_info": {
   "codemirror_mode": {
    "name": "ipython",
    "version": 3
   },
   "file_extension": ".py",
   "mimetype": "text/x-python",
   "name": "python",
   "nbconvert_exporter": "python",
   "pygments_lexer": "ipython3",
   "version": "3.8.5"
  },
  "nbclean": true
 },
 "nbformat": 4,
 "nbformat_minor": 1
}
